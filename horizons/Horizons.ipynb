{
 "cells": [
  {
   "cell_type": "code",
   "execution_count": 1,
   "id": "dfd99dc7",
   "metadata": {},
   "outputs": [],
   "source": [
    "import requests\n",
    "from datetime import datetime\n",
    "from sklearn.linear_model import LinearRegression\n",
    "import numpy as np"
   ]
  },
  {
   "cell_type": "code",
   "execution_count": 2,
   "id": "d523e340",
   "metadata": {},
   "outputs": [],
   "source": [
    "MONTHS = {\n",
    "    \"Jan\": \"01\", \"Feb\": \"02\", \"Mar\": \"03\", \"Apr\": \"04\", \"May\": \"05\", \"Jun\": \"06\",\n",
    "    \"Jul\": \"07\", \"Aug\": \"08\", \"Sep\": \"09\", \"Oct\": \"10\", \"Nov\": \"11\", \"Dec\": \"12\"\n",
    "}"
   ]
  },
  {
   "cell_type": "code",
   "execution_count": 3,
   "id": "ec429b7a",
   "metadata": {},
   "outputs": [],
   "source": [
    "def get_url(start, stop, step):\n",
    "    return \"https://ssd.jpl.nasa.gov/api/horizons.api?\" + \"&\".join(f\"{k}={v}\" for k, v in {\n",
    "        \"EPHEM_TYPE\": \"'VECTORS'\",\n",
    "        \"COMMAND\": \"'399'\",\n",
    "        \"CENTER\": \"'500@10'\",\n",
    "        \"START_TIME\": f\"'{start}'\",\n",
    "        \"STOP_TIME\": f\"'{stop}'\",\n",
    "        \"STEP_SIZE\": f\"'{step}'\",\n",
    "        \"OBJ_DATA\": \"'NO'\",\n",
    "    }.items())"
   ]
  },
  {
   "cell_type": "code",
   "execution_count": 4,
   "id": "38815398",
   "metadata": {},
   "outputs": [],
   "source": [
    "def get_ephem(start, stop, step):\n",
    "    resp = requests.get(get_url(start, stop, step))\n",
    "    return resp.json()[\"result\"].split(\"\\n\")"
   ]
  },
  {
   "cell_type": "code",
   "execution_count": 5,
   "id": "f1bb5326",
   "metadata": {},
   "outputs": [],
   "source": [
    "def find_origin(start, stop, step):\n",
    "    ephem = get_ephem(start, stop, step)\n",
    "    state = 0\n",
    "    prev_dt = None\n",
    "    dt = None\n",
    "    prev_y = None\n",
    "    y = None\n",
    "    for line in ephem:\n",
    "        match state:\n",
    "            case 0:\n",
    "                if \"$$SOE\" in line:\n",
    "                    state = 1\n",
    "            case 1:\n",
    "                if \"$$EOE\" in line:\n",
    "                    break\n",
    "                elif \"A.D.\" in line:\n",
    "                    prev_dt = dt\n",
    "                    dt = \" \".join(line.split()[3:5])\n",
    "                elif \"X =\" in line:\n",
    "                    y = line.split(\"=\")[2]\n",
    "                    y = float(y[:y.find(\"Z\")].strip())\n",
    "                    if prev_y is not None and prev_y < 0.0 and y > 0.0:\n",
    "                        break\n",
    "                    prev_y = y\n",
    "    return prev_dt, dt, prev_y, y"
   ]
  },
  {
   "cell_type": "code",
   "execution_count": 6,
   "id": "f657d4cb",
   "metadata": {},
   "outputs": [],
   "source": [
    "def year_origin(year):\n",
    "    prev_dt, dt, _, _ = find_origin(f\"{year}-01-01\", f\"{year + 1}-01-01\", \"1 day\")\n",
    "    prev_dt, dt, prev_y, y = find_origin(prev_dt, dt, \"1 minute\")\n",
    "    if abs(prev_y) < abs(y):\n",
    "        return prev_dt\n",
    "    else:\n",
    "        return dt"
   ]
  },
  {
   "cell_type": "code",
   "execution_count": 7,
   "id": "b42af500",
   "metadata": {},
   "outputs": [],
   "source": [
    "def dt_to_iso(dt):\n",
    "    for k, v in MONTHS.items():\n",
    "        dt = dt.replace(k, v)\n",
    "    dt = dt.replace(\" \", \"T\")\n",
    "    return dt[:dt.find(\".\")]"
   ]
  },
  {
   "cell_type": "code",
   "execution_count": 8,
   "id": "43122345",
   "metadata": {},
   "outputs": [],
   "source": [
    "def origin_ts(year):\n",
    "    origin = year_origin(year)\n",
    "    dt_str = dt_to_iso(origin)\n",
    "    dt = datetime.fromisoformat(dt_str)\n",
    "    ts = dt.timestamp()\n",
    "    return ts"
   ]
  },
  {
   "cell_type": "code",
   "execution_count": 9,
   "id": "d64cc0b5",
   "metadata": {},
   "outputs": [
    {
     "name": "stdout",
     "output_type": "stream",
     "text": [
      "1970 22895580.0\n",
      "1972 86011860.0\n",
      "1974 149127480.0\n",
      "1976 212244420.0\n",
      "1978 275360400.0\n",
      "1980 338476800.0\n",
      "1982 401593020.0\n",
      "1984 464709960.0\n",
      "1986 527825760.0\n",
      "1988 590941920.0\n",
      "1990 654057780.0\n",
      "1992 717174780.0\n",
      "1994 780290940.0\n",
      "1996 843407220.0\n",
      "1998 906523200.0\n",
      "2000 969640140.0\n",
      "2002 1032755820.0\n",
      "2004 1095872160.0\n",
      "2006 1158988500.0\n",
      "2008 1222105260.0\n",
      "2010 1285220940.0\n",
      "2012 1348337340.0\n",
      "2014 1411453620.0\n",
      "2016 1474570500.0\n",
      "2018 1537686360.0\n",
      "2020 1600802520.0\n"
     ]
    }
   ],
   "source": [
    "data = {}\n",
    "for year in range(1970, 2021, 2):\n",
    "    ts = origin_ts(year)\n",
    "    print(year, ts)\n",
    "    data[year] = ts"
   ]
  },
  {
   "cell_type": "code",
   "execution_count": 10,
   "id": "4c687db2",
   "metadata": {},
   "outputs": [],
   "source": [
    "regr = LinearRegression()"
   ]
  },
  {
   "cell_type": "code",
   "execution_count": 11,
   "id": "e46fd905",
   "metadata": {},
   "outputs": [],
   "source": [
    "X = np.array(sorted(data.keys())).reshape(-1, 1)"
   ]
  },
  {
   "cell_type": "code",
   "execution_count": 12,
   "id": "b736dd93",
   "metadata": {},
   "outputs": [],
   "source": [
    "Y = np.array([data[x[0]] for x in X])"
   ]
  },
  {
   "cell_type": "code",
   "execution_count": 13,
   "id": "51a6bd91",
   "metadata": {},
   "outputs": [
    {
     "data": {
      "text/html": [
       "<style>#sk-container-id-1 {color: black;}#sk-container-id-1 pre{padding: 0;}#sk-container-id-1 div.sk-toggleable {background-color: white;}#sk-container-id-1 label.sk-toggleable__label {cursor: pointer;display: block;width: 100%;margin-bottom: 0;padding: 0.3em;box-sizing: border-box;text-align: center;}#sk-container-id-1 label.sk-toggleable__label-arrow:before {content: \"▸\";float: left;margin-right: 0.25em;color: #696969;}#sk-container-id-1 label.sk-toggleable__label-arrow:hover:before {color: black;}#sk-container-id-1 div.sk-estimator:hover label.sk-toggleable__label-arrow:before {color: black;}#sk-container-id-1 div.sk-toggleable__content {max-height: 0;max-width: 0;overflow: hidden;text-align: left;background-color: #f0f8ff;}#sk-container-id-1 div.sk-toggleable__content pre {margin: 0.2em;color: black;border-radius: 0.25em;background-color: #f0f8ff;}#sk-container-id-1 input.sk-toggleable__control:checked~div.sk-toggleable__content {max-height: 200px;max-width: 100%;overflow: auto;}#sk-container-id-1 input.sk-toggleable__control:checked~label.sk-toggleable__label-arrow:before {content: \"▾\";}#sk-container-id-1 div.sk-estimator input.sk-toggleable__control:checked~label.sk-toggleable__label {background-color: #d4ebff;}#sk-container-id-1 div.sk-label input.sk-toggleable__control:checked~label.sk-toggleable__label {background-color: #d4ebff;}#sk-container-id-1 input.sk-hidden--visually {border: 0;clip: rect(1px 1px 1px 1px);clip: rect(1px, 1px, 1px, 1px);height: 1px;margin: -1px;overflow: hidden;padding: 0;position: absolute;width: 1px;}#sk-container-id-1 div.sk-estimator {font-family: monospace;background-color: #f0f8ff;border: 1px dotted black;border-radius: 0.25em;box-sizing: border-box;margin-bottom: 0.5em;}#sk-container-id-1 div.sk-estimator:hover {background-color: #d4ebff;}#sk-container-id-1 div.sk-parallel-item::after {content: \"\";width: 100%;border-bottom: 1px solid gray;flex-grow: 1;}#sk-container-id-1 div.sk-label:hover label.sk-toggleable__label {background-color: #d4ebff;}#sk-container-id-1 div.sk-serial::before {content: \"\";position: absolute;border-left: 1px solid gray;box-sizing: border-box;top: 0;bottom: 0;left: 50%;z-index: 0;}#sk-container-id-1 div.sk-serial {display: flex;flex-direction: column;align-items: center;background-color: white;padding-right: 0.2em;padding-left: 0.2em;position: relative;}#sk-container-id-1 div.sk-item {position: relative;z-index: 1;}#sk-container-id-1 div.sk-parallel {display: flex;align-items: stretch;justify-content: center;background-color: white;position: relative;}#sk-container-id-1 div.sk-item::before, #sk-container-id-1 div.sk-parallel-item::before {content: \"\";position: absolute;border-left: 1px solid gray;box-sizing: border-box;top: 0;bottom: 0;left: 50%;z-index: -1;}#sk-container-id-1 div.sk-parallel-item {display: flex;flex-direction: column;z-index: 1;position: relative;background-color: white;}#sk-container-id-1 div.sk-parallel-item:first-child::after {align-self: flex-end;width: 50%;}#sk-container-id-1 div.sk-parallel-item:last-child::after {align-self: flex-start;width: 50%;}#sk-container-id-1 div.sk-parallel-item:only-child::after {width: 0;}#sk-container-id-1 div.sk-dashed-wrapped {border: 1px dashed gray;margin: 0 0.4em 0.5em 0.4em;box-sizing: border-box;padding-bottom: 0.4em;background-color: white;}#sk-container-id-1 div.sk-label label {font-family: monospace;font-weight: bold;display: inline-block;line-height: 1.2em;}#sk-container-id-1 div.sk-label-container {text-align: center;}#sk-container-id-1 div.sk-container {/* jupyter's `normalize.less` sets `[hidden] { display: none; }` but bootstrap.min.css set `[hidden] { display: none !important; }` so we also need the `!important` here to be able to override the default hidden behavior on the sphinx rendered scikit-learn.org. See: https://github.com/scikit-learn/scikit-learn/issues/21755 */display: inline-block !important;position: relative;}#sk-container-id-1 div.sk-text-repr-fallback {display: none;}</style><div id=\"sk-container-id-1\" class=\"sk-top-container\"><div class=\"sk-text-repr-fallback\"><pre>LinearRegression()</pre><b>In a Jupyter environment, please rerun this cell to show the HTML representation or trust the notebook. <br />On GitHub, the HTML representation is unable to render, please try loading this page with nbviewer.org.</b></div><div class=\"sk-container\" hidden><div class=\"sk-item\"><div class=\"sk-estimator sk-toggleable\"><input class=\"sk-toggleable__control sk-hidden--visually\" id=\"sk-estimator-id-1\" type=\"checkbox\" checked><label for=\"sk-estimator-id-1\" class=\"sk-toggleable__label sk-toggleable__label-arrow\">LinearRegression</label><div class=\"sk-toggleable__content\"><pre>LinearRegression()</pre></div></div></div></div></div>"
      ],
      "text/plain": [
       "LinearRegression()"
      ]
     },
     "execution_count": 13,
     "metadata": {},
     "output_type": "execute_result"
    }
   ],
   "source": [
    "regr.fit(X, Y)"
   ]
  },
  {
   "cell_type": "code",
   "execution_count": 14,
   "id": "be87eedd",
   "metadata": {},
   "outputs": [],
   "source": [
    "sidereal = 365.256363004 * 24.0 * 60.0 * 60.0"
   ]
  },
  {
   "cell_type": "code",
   "execution_count": 15,
   "id": "85ff707b",
   "metadata": {},
   "outputs": [],
   "source": [
    "res = regr.predict(np.array([1970, 2020]).reshape(-1, 1))"
   ]
  },
  {
   "cell_type": "code",
   "execution_count": 16,
   "id": "f39e12bb",
   "metadata": {},
   "outputs": [
    {
     "data": {
      "text/plain": [
       "(1.7247432929978155, 31558149.763545603)"
      ]
     },
     "execution_count": 16,
     "metadata": {},
     "output_type": "execute_result"
    }
   ],
   "source": [
    "phase = res[0] / sidereal\n",
    "2.0 * np.pi - phase * 2.0 * np.pi, sidereal"
   ]
  },
  {
   "cell_type": "code",
   "execution_count": 23,
   "id": "bc2b4cee",
   "metadata": {},
   "outputs": [],
   "source": [
    "X1 = np.array([2023.0, 2024.0, 2025.0, 2026.0]).reshape(-1, 1)\n",
    "Y1 = np.array([1703215620.0, 1734772860.0, 1766329380.0, 1797886200.0])\n",
    "regr1 = LinearRegression()\n",
    "regr1.fit(X1, Y1)\n",
    "res1 = regr1.predict(np.array([2023.0]).reshape(-1, 1))"
   ]
  },
  {
   "cell_type": "code",
   "execution_count": 24,
   "id": "fdb67fec",
   "metadata": {},
   "outputs": [
    {
     "data": {
      "text/plain": [
       "1.5407643946374219"
      ]
     },
     "execution_count": 24,
     "metadata": {},
     "output_type": "execute_result"
    }
   ],
   "source": [
    "solstice = res1[0]\n",
    "origin = res[1]\n",
    "axial_direction = (solstice - origin) % sidereal / sidereal * 2.0 * np.pi\n",
    "axial_direction"
   ]
  }
 ],
 "metadata": {
  "kernelspec": {
   "display_name": "Python 3 (ipykernel)",
   "language": "python",
   "name": "python3"
  },
  "language_info": {
   "codemirror_mode": {
    "name": "ipython",
    "version": 3
   },
   "file_extension": ".py",
   "mimetype": "text/x-python",
   "name": "python",
   "nbconvert_exporter": "python",
   "pygments_lexer": "ipython3",
   "version": "3.10.12"
  }
 },
 "nbformat": 4,
 "nbformat_minor": 5
}
